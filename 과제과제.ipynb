{
 "cells": [
  {
   "cell_type": "code",
   "execution_count": 21,
   "metadata": {
    "scrolled": true
   },
   "outputs": [
    {
     "name": "stdout",
     "output_type": "stream",
     "text": [
      "[[ 1  1  2  3  4  4]\n",
      " [ 1  1  2  3  4  4]\n",
      " [ 5  5  6  7  8  8]\n",
      " [ 9  9 10 11 12 12]\n",
      " [ 9  9 10 11 12 12]]\n"
     ]
    }
   ],
   "source": [
    "#1\n",
    "import numpy as np\n",
    "row, col=3,4\n",
    "\n",
    "li=[[kk+1 +jj*col for kk in range(col)] for jj in range(row)]\n",
    "li=np.pad(li, 1, 'edge')\n",
    "print(li)"
   ]
  },
  {
   "cell_type": "code",
   "execution_count": 44,
   "metadata": {},
   "outputs": [
    {
     "name": "stdout",
     "output_type": "stream",
     "text": [
      "[1, 2, 3, 4, 8, 12, 11, 10, 9, 5]\n",
      "sum 65\n"
     ]
    }
   ],
   "source": [
    "#2\n",
    "nlist1 = [[kk+1 + jj*col for kk in range(col)] for jj in range(row)]\n",
    "\n",
    "list1 =[]\n",
    "\n",
    "list1.extend(nlist1[0][0:4])\n",
    "list1.extend(nlist1[1][-1:])\n",
    "list1.extend(nlist1[2][-1:-5:-1])\n",
    "list1.extend(nlist1[1][:1])\n",
    "print(list1)\n",
    "\n",
    "sum1 = sum(list1)\n",
    "print('sum',sum1)"
   ]
  },
  {
   "cell_type": "code",
   "execution_count": 47,
   "metadata": {},
   "outputs": [
    {
     "name": "stdout",
     "output_type": "stream",
     "text": [
      "[[1, 2, 3, 4], [5, 0, 0, 8], [9, 10, 11, 12]]\n"
     ]
    }
   ],
   "source": [
    "#3\n",
    "nlist2 = [[kk+1 + jj*col for kk in range(col)] for jj in range(row)]\n",
    "nlist2[1][1]=0\n",
    "nlist2[1][2]=0\n",
    "print(nlist2)"
   ]
  },
  {
   "cell_type": "code",
   "execution_count": 65,
   "metadata": {},
   "outputs": [
    {
     "name": "stdout",
     "output_type": "stream",
     "text": [
      "[[ 1  2  3  4 10]\n",
      " [ 5  6  7  8 26]\n",
      " [ 9 10 11 12 42]\n",
      " [15 18 21 24 78]]\n"
     ]
    }
   ],
   "source": [
    "#4\n",
    "nlist3 = [[kk+1 + jj*col for kk in range(col)] for jj in range(row)]\n",
    "narr = np.array(nlist3)\n",
    "\n",
    "sum1=np.sum(narr,axis=1)\n",
    "narr=np.column_stack((narr, sum1))\n",
    "\n",
    "sum2=sum(narr)\n",
    "narr=np.row_stack((narr,sum2))\n",
    "print(narr)"
   ]
  },
  {
   "cell_type": "code",
   "execution_count": 4,
   "metadata": {},
   "outputs": [],
   "source": [
    "#twosum class\n",
    "class Solution:\n",
    "    def twosum(self, nums, target):\n",
    "        for i in range(len(nums)):\n",
    "            for j in range(len(nums)):\n",
    "                if i!=j:\n",
    "                    if nums[i]+nums[j]==target:\n",
    "                        return i,j\n",
    "                    "
   ]
  },
  {
   "cell_type": "code",
   "execution_count": 6,
   "metadata": {},
   "outputs": [
    {
     "name": "stdout",
     "output_type": "stream",
     "text": [
      "(0, 4)\n"
     ]
    }
   ],
   "source": [
    "a=Solution()\n",
    "nums=[num for num in range(1,200)]\n",
    "sum1=a.twosum(nums, 6)\n",
    "print(sum1)\n",
    "\n",
    "\n"
   ]
  },
  {
   "cell_type": "code",
   "execution_count": 9,
   "metadata": {},
   "outputs": [
    {
     "name": "stdout",
     "output_type": "stream",
     "text": [
      "ab\n",
      "abc\n",
      "abcb\n",
      "abcbc\n",
      "abcbcb\n",
      "abcbcbc\n",
      "7\n"
     ]
    }
   ],
   "source": [
    "class Solution1:\n",
    "    def lengthOfLongestSubstring(self, s):\n",
    "        ss=\"\"\n",
    "        ss+=s[0]\n",
    "        for i in range(len(s)-1):\n",
    "            if s[i]!=s[i+1]:\n",
    "                if s[i+1]!=s[0]:\n",
    "                    ss+=s[i+1]\n",
    "                    print(ss)\n",
    "        return len(ss)\n",
    "\n",
    "sss=\"abcabcabc\"\n",
    "a=Solution1()\n",
    "print(a.lengthOfLongestSubstring(sss))\n",
    "            \n",
    "                "
   ]
  },
  {
   "cell_type": "code",
   "execution_count": 12,
   "metadata": {},
   "outputs": [
    {
     "ename": "TypeError",
     "evalue": "slice indices must be integers or None or have an __index__ method",
     "output_type": "error",
     "traceback": [
      "\u001b[0;31m---------------------------------------------------------------------------\u001b[0m",
      "\u001b[0;31mTypeError\u001b[0m                                 Traceback (most recent call last)",
      "\u001b[0;32m<ipython-input-12-2536935bf5b7>\u001b[0m in \u001b[0;36m<module>\u001b[0;34m()\u001b[0m\n\u001b[1;32m     12\u001b[0m \u001b[0maaa\u001b[0m\u001b[0;34m=\u001b[0m\u001b[0mSolution2\u001b[0m\u001b[0;34m(\u001b[0m\u001b[0;34m)\u001b[0m\u001b[0;34m\u001b[0m\u001b[0m\n\u001b[1;32m     13\u001b[0m \u001b[0minput1\u001b[0m\u001b[0;34m=\u001b[0m\u001b[0;34m\"aab\"\u001b[0m\u001b[0;34m\u001b[0m\u001b[0m\n\u001b[0;32m---> 14\u001b[0;31m \u001b[0maaa\u001b[0m\u001b[0;34m.\u001b[0m\u001b[0mreorganizeString\u001b[0m\u001b[0;34m(\u001b[0m\u001b[0minput1\u001b[0m\u001b[0;34m)\u001b[0m\u001b[0;34m\u001b[0m\u001b[0m\n\u001b[0m",
      "\u001b[0;32m<ipython-input-12-2536935bf5b7>\u001b[0m in \u001b[0;36mreorganizeString\u001b[0;34m(self, S)\u001b[0m\n\u001b[1;32m      7\u001b[0m             \u001b[0mA\u001b[0m\u001b[0;34m.\u001b[0m\u001b[0mextend\u001b[0m\u001b[0;34m(\u001b[0m\u001b[0mc\u001b[0m \u001b[0;34m*\u001b[0m \u001b[0mx\u001b[0m\u001b[0;34m)\u001b[0m\u001b[0;34m\u001b[0m\u001b[0m\n\u001b[1;32m      8\u001b[0m         \u001b[0mans\u001b[0m \u001b[0;34m=\u001b[0m \u001b[0;34m[\u001b[0m\u001b[0;32mNone\u001b[0m\u001b[0;34m]\u001b[0m \u001b[0;34m*\u001b[0m \u001b[0mN\u001b[0m\u001b[0;34m\u001b[0m\u001b[0m\n\u001b[0;32m----> 9\u001b[0;31m         \u001b[0mans\u001b[0m\u001b[0;34m[\u001b[0m\u001b[0;34m:\u001b[0m\u001b[0;34m:\u001b[0m\u001b[0;36m2\u001b[0m\u001b[0;34m]\u001b[0m\u001b[0;34m,\u001b[0m \u001b[0mans\u001b[0m\u001b[0;34m[\u001b[0m\u001b[0;36m1\u001b[0m\u001b[0;34m:\u001b[0m\u001b[0;34m:\u001b[0m\u001b[0;36m2\u001b[0m\u001b[0;34m]\u001b[0m \u001b[0;34m=\u001b[0m \u001b[0mA\u001b[0m\u001b[0;34m[\u001b[0m\u001b[0mN\u001b[0m\u001b[0;34m/\u001b[0m\u001b[0;36m2\u001b[0m\u001b[0;34m:\u001b[0m\u001b[0;34m]\u001b[0m\u001b[0;34m,\u001b[0m \u001b[0mA\u001b[0m\u001b[0;34m[\u001b[0m\u001b[0;34m:\u001b[0m\u001b[0mN\u001b[0m\u001b[0;34m/\u001b[0m\u001b[0;36m2\u001b[0m\u001b[0;34m]\u001b[0m\u001b[0;34m\u001b[0m\u001b[0m\n\u001b[0m\u001b[1;32m     10\u001b[0m         \u001b[0;32mreturn\u001b[0m \u001b[0;34m\"\"\u001b[0m\u001b[0;34m.\u001b[0m\u001b[0mjoin\u001b[0m\u001b[0;34m(\u001b[0m\u001b[0mans\u001b[0m\u001b[0;34m)\u001b[0m\u001b[0;34m\u001b[0m\u001b[0m\n\u001b[1;32m     11\u001b[0m \u001b[0;34m\u001b[0m\u001b[0m\n",
      "\u001b[0;31mTypeError\u001b[0m: slice indices must be integers or None or have an __index__ method"
     ]
    }
   ],
   "source": [
    "class Solution2(object):\n",
    "    def reorganizeString(self, S):\n",
    "        N = len(S)\n",
    "        A = []\n",
    "        for c, x in sorted((S.count(x), x) for x in set(S)):\n",
    "            if c > (N+1)/2: return \"\"\n",
    "            A.extend(c * x)\n",
    "        ans = [None] * N\n",
    "        ans[::2], ans[1::2] = A[N/2:], A[:N/2]\n",
    "        return \"\".join(ans)\n",
    "    \n",
    "aaa=Solution2()\n",
    "input1=\"aab\"\n",
    "aaa.reorganizeString(input1)"
   ]
  },
  {
   "cell_type": "code",
   "execution_count": 16,
   "metadata": {},
   "outputs": [
    {
     "name": "stdout",
     "output_type": "stream",
     "text": [
      "[1, 2, 3, 4, 5, 1, 2, 3, 4, 5, 1, 2, 3, 4, 5]\n"
     ]
    }
   ],
   "source": [
    "li=[1,2,3,4,5]\n",
    "li2=li*3\n",
    "print(li2)"
   ]
  },
  {
   "cell_type": "code",
   "execution_count": 19,
   "metadata": {},
   "outputs": [
    {
     "name": "stdout",
     "output_type": "stream",
     "text": [
      "0 1\n",
      "1 2\n",
      "2 3\n",
      "3 4\n",
      "4 5\n",
      "[3, 6, 9, 12, 15]\n"
     ]
    }
   ],
   "source": [
    "li3=list(range(5))\n",
    "for ii, kk in enumerate(li):\n",
    "    print(ii,kk)\n",
    "    li3[ii]=kk*3\n",
    "print(li3)"
   ]
  },
  {
   "cell_type": "code",
   "execution_count": 20,
   "metadata": {},
   "outputs": [
    {
     "name": "stdout",
     "output_type": "stream",
     "text": [
      "[3, 6, 9, 12, 15]\n"
     ]
    }
   ],
   "source": [
    "li3=[]\n",
    "for kk in li:\n",
    "    li3.append(kk*3)\n",
    "print(li3)"
   ]
  },
  {
   "cell_type": "code",
   "execution_count": 21,
   "metadata": {},
   "outputs": [
    {
     "name": "stdout",
     "output_type": "stream",
     "text": [
      "[3, 6, 9, 12, 15]\n"
     ]
    }
   ],
   "source": [
    "def li_mu(li,kk):\n",
    "    li3=[]\n",
    "    for kk in li:\n",
    "        li3.append(kk*3)\n",
    "    return li3\n",
    "\n",
    "print(li_mu(li,3))"
   ]
  },
  {
   "cell_type": "code",
   "execution_count": 22,
   "metadata": {},
   "outputs": [
    {
     "name": "stdout",
     "output_type": "stream",
     "text": [
      "[3, 6, 9, 12, 15]\n"
     ]
    }
   ],
   "source": [
    "li4=[kk*3 for kk in li]\n",
    "print(li4)"
   ]
  },
  {
   "cell_type": "code",
   "execution_count": 24,
   "metadata": {},
   "outputs": [
    {
     "name": "stdout",
     "output_type": "stream",
     "text": [
      "[3, 6, 9, 12, 15]\n"
     ]
    }
   ],
   "source": [
    "li5=[(lambda kk:kk*3)(kk) for kk in li]\n",
    "print(li5)"
   ]
  },
  {
   "cell_type": "code",
   "execution_count": 27,
   "metadata": {},
   "outputs": [
    {
     "name": "stdout",
     "output_type": "stream",
     "text": [
      "[ 3  6  9 12 15]\n",
      "[3, 6, 9, 12, 15]\n"
     ]
    }
   ],
   "source": [
    "import numpy as np\n",
    "a=np.array(li)\n",
    "np2=a*3\n",
    "print(np2)\n",
    "np2=list(np2)\n",
    "print(np2)"
   ]
  },
  {
   "cell_type": "code",
   "execution_count": 32,
   "metadata": {},
   "outputs": [
    {
     "name": "stdout",
     "output_type": "stream",
     "text": [
      "[3, 6, 9, 12, 15]\n"
     ]
    }
   ],
   "source": [
    "li3=list(map(lambda x:x*3, li))\n",
    "print(li3)"
   ]
  },
  {
   "cell_type": "code",
   "execution_count": 35,
   "metadata": {},
   "outputs": [
    {
     "name": "stdout",
     "output_type": "stream",
     "text": [
      "[1, 0, 3, 0, 5]\n"
     ]
    }
   ],
   "source": [
    "li3=[]\n",
    "for i in li:\n",
    "    if i*3%2==0:\n",
    "        li3.append(0)\n",
    "    else:\n",
    "        li3.append(i)\n",
    "print(li3)"
   ]
  },
  {
   "cell_type": "code",
   "execution_count": 42,
   "metadata": {},
   "outputs": [
    {
     "name": "stdout",
     "output_type": "stream",
     "text": [
      "[3, 0, 9, 0, 15]\n"
     ]
    }
   ],
   "source": [
    "li4=[(lambda xx:0 if xx*3%2==0 else xx*3)(xx) for xx in li]\n",
    "print(li4)"
   ]
  },
  {
   "cell_type": "code",
   "execution_count": 43,
   "metadata": {},
   "outputs": [
    {
     "name": "stdout",
     "output_type": "stream",
     "text": [
      "[0, 6, 0, 12, 0]\n"
     ]
    }
   ],
   "source": [
    "li3=[]\n",
    "for i in li:\n",
    "    li3.append(0 if i*3%2 else i*3)\n",
    "print(li3)"
   ]
  },
  {
   "cell_type": "code",
   "execution_count": 44,
   "metadata": {},
   "outputs": [],
   "source": [
    "li4=[0 if kk*3%2==0 else kk*3 for kk in li]"
   ]
  },
  {
   "cell_type": "code",
   "execution_count": 45,
   "metadata": {},
   "outputs": [
    {
     "name": "stdout",
     "output_type": "stream",
     "text": [
      "[3, 0, 9, 0, 15]\n"
     ]
    }
   ],
   "source": [
    "print(li4)"
   ]
  },
  {
   "cell_type": "code",
   "execution_count": 46,
   "metadata": {},
   "outputs": [],
   "source": [
    "li5=[(lambda xx:0 if xx*3%2==0 else xx*3)(xx) for xx in li]"
   ]
  },
  {
   "cell_type": "code",
   "execution_count": 91,
   "metadata": {},
   "outputs": [
    {
     "ename": "SyntaxError",
     "evalue": "invalid syntax (<ipython-input-91-637a094a124e>, line 1)",
     "output_type": "error",
     "traceback": [
      "\u001b[0;36m  File \u001b[0;32m\"<ipython-input-91-637a094a124e>\"\u001b[0;36m, line \u001b[0;32m1\u001b[0m\n\u001b[0;31m    li5=[(lambda xx:xx*3 if xx*3%2!=0 else pass)(xx) for xx in li]\u001b[0m\n\u001b[0m                                              ^\u001b[0m\n\u001b[0;31mSyntaxError\u001b[0m\u001b[0;31m:\u001b[0m invalid syntax\n"
     ]
    }
   ],
   "source": [
    "li5=[(lambda xx:xx*3 if xx*3%2!=0)(xx) for xx in li]"
   ]
  },
  {
   "cell_type": "code",
   "execution_count": 48,
   "metadata": {},
   "outputs": [
    {
     "name": "stdout",
     "output_type": "stream",
     "text": [
      "[3, 0, 9, 0, 15]\n"
     ]
    }
   ],
   "source": [
    "def mul(x):\n",
    "    return 0 if x*3%2==0 else x*3\n",
    "li=[1,2,3,4,5]\n",
    "li6=list(map(mul,li))\n",
    "print(li6)"
   ]
  },
  {
   "cell_type": "code",
   "execution_count": 50,
   "metadata": {},
   "outputs": [],
   "source": [
    "li7=list(map(lambda xx:0 if xx*3%2==0 else xx*3, li))"
   ]
  },
  {
   "cell_type": "code",
   "execution_count": 51,
   "metadata": {},
   "outputs": [
    {
     "name": "stdout",
     "output_type": "stream",
     "text": [
      "[3, 0, 9, 0, 15]\n"
     ]
    }
   ],
   "source": [
    "print(li7)"
   ]
  },
  {
   "cell_type": "code",
   "execution_count": 63,
   "metadata": {},
   "outputs": [
    {
     "name": "stdout",
     "output_type": "stream",
     "text": [
      "[1, [2, 77], 4]\n",
      "[1, [2, 3], 4]\n"
     ]
    }
   ],
   "source": [
    "import copy\n",
    "arr=[1,[2,3],4]\n",
    "arr2=copy.deepcopy(arr)\n",
    "\n",
    "\n",
    "arr[1][1]=77\n",
    "print(arr)\n",
    "print(arr2)"
   ]
  },
  {
   "cell_type": "code",
   "execution_count": 59,
   "metadata": {},
   "outputs": [
    {
     "name": "stdout",
     "output_type": "stream",
     "text": [
      "[[1, 2], [3, 4]]\n"
     ]
    }
   ],
   "source": []
  },
  {
   "cell_type": "code",
   "execution_count": 68,
   "metadata": {},
   "outputs": [
    {
     "name": "stdout",
     "output_type": "stream",
     "text": [
      "3\n"
     ]
    }
   ],
   "source": [
    "a=-4\n",
    "print(~a)"
   ]
  },
  {
   "cell_type": "code",
   "execution_count": 69,
   "metadata": {},
   "outputs": [
    {
     "name": "stdout",
     "output_type": "stream",
     "text": [
      "-16\n"
     ]
    }
   ],
   "source": [
    "print(a<<2)"
   ]
  },
  {
   "cell_type": "code",
   "execution_count": 70,
   "metadata": {},
   "outputs": [
    {
     "name": "stdout",
     "output_type": "stream",
     "text": [
      "False\n"
     ]
    }
   ],
   "source": [
    "print(not a)"
   ]
  },
  {
   "cell_type": "code",
   "execution_count": 74,
   "metadata": {},
   "outputs": [
    {
     "name": "stdout",
     "output_type": "stream",
     "text": [
      "[4, 3, 2]\n"
     ]
    }
   ],
   "source": [
    "aaa=[num for num in range(10)]\n",
    "print(aaa[-6:-9:-1])"
   ]
  },
  {
   "cell_type": "code",
   "execution_count": 81,
   "metadata": {},
   "outputs": [],
   "source": [
    "li=[1,2,3,4,5]\n",
    "li2=list((lambda x:x*3)(x) for x in li)"
   ]
  },
  {
   "cell_type": "code",
   "execution_count": 82,
   "metadata": {},
   "outputs": [
    {
     "name": "stdout",
     "output_type": "stream",
     "text": [
      "[3, 6, 9, 12, 15]\n"
     ]
    }
   ],
   "source": [
    "print(li2)"
   ]
  },
  {
   "cell_type": "code",
   "execution_count": 83,
   "metadata": {},
   "outputs": [],
   "source": [
    "li3=list(map(lambda x:x*3, li))"
   ]
  },
  {
   "cell_type": "code",
   "execution_count": 84,
   "metadata": {},
   "outputs": [
    {
     "name": "stdout",
     "output_type": "stream",
     "text": [
      "[3, 6, 9, 12, 15]\n"
     ]
    }
   ],
   "source": [
    "print(li3)"
   ]
  },
  {
   "cell_type": "code",
   "execution_count": 123,
   "metadata": {},
   "outputs": [],
   "source": [
    "li4=[(lambda x:x*3 if x*3%2!=0 else li4.remove(x))(x) for x in li]"
   ]
  },
  {
   "cell_type": "code",
   "execution_count": 124,
   "metadata": {
    "scrolled": true
   },
   "outputs": [
    {
     "name": "stdout",
     "output_type": "stream",
     "text": [
      "[3, 9, 15]\n"
     ]
    }
   ],
   "source": [
    "print(li4)"
   ]
  },
  {
   "cell_type": "code",
   "execution_count": 298,
   "metadata": {},
   "outputs": [
    {
     "data": {
      "image/png": "[encoded data removed]",
      "text/plain": [
       "<matplotlib.figure.Figure at 0x10649ca90>"
      ]
     },
     "metadata": {},
     "output_type": "display_data"
    }
   ],
   "source": [
    "import matplotlib.pyplot as plt\n",
    "\n",
    "xx=[1,2,3]\n",
    "yy=[4,8,6]\n",
    "yy2=[2,6,8]\n",
    "yy3=[4,5,7]\n",
    "\n",
    "plt.xlim([0,4])\n",
    "plt.ylim([1,9])\n",
    "plt.xlabel('x value')\n",
    "plt.ylabel('y value')\n",
    "plt.plot(xx,yy,'r',label='test')\n",
    "plt.plot(xx,yy2,'b--')\n",
    "plt.plot(xx[:2],yy2[:2],'b')\n",
    "plt.plot(xx[1],yy2[1],'bo')\n",
    "plt.plot(xx,yy3,'go')\n",
    "plt.legend()\n",
    "plt.show()"
   ]
  },
  {
   "cell_type": "code",
   "execution_count": 160,
   "metadata": {
    "scrolled": true
   },
   "outputs": [
    {
     "name": "stdout",
     "output_type": "stream",
     "text": [
      "[3, 0, 9, 0, 15]\n"
     ]
    }
   ],
   "source": [
    "li4=list(map(x1,li))\n",
    "print(li4)"
   ]
  },
  {
   "cell_type": "code",
   "execution_count": 161,
   "metadata": {},
   "outputs": [],
   "source": [
    "row, col=3,4\n",
    "li=[[kk+1+jj*col for kk in range(col)] for jj in range(row)]"
   ]
  },
  {
   "cell_type": "code",
   "execution_count": 164,
   "metadata": {
    "scrolled": true
   },
   "outputs": [
    {
     "name": "stdout",
     "output_type": "stream",
     "text": [
      "[[ 1  2  3  4]\n",
      " [ 5  0  0  8]\n",
      " [ 9 10 11 12]]\n"
     ]
    }
   ],
   "source": [
    "import numpy as np\n",
    "ar1=np.array(li)\n",
    "ar1[1:-1,1:-1]=0\n",
    "print(ar1)"
   ]
  },
  {
   "cell_type": "code",
   "execution_count": 171,
   "metadata": {},
   "outputs": [
    {
     "name": "stdout",
     "output_type": "stream",
     "text": [
      "[[ True  True  True  True]\n",
      " [ True  True  True  True]\n",
      " [ True  True  True  True]]\n",
      "-------------------------\n",
      "[[False False False False]\n",
      " [ True  True  True  True]\n",
      " [ True  True  True  True]]\n",
      "-------------------------\n",
      "[[False False False False]\n",
      " [ True  True  True  True]\n",
      " [False False False False]]\n",
      "-------------------------\n",
      "[[False False False False]\n",
      " [False  True  True  True]\n",
      " [False False False False]]\n",
      "-------------------------\n",
      "[[False False False False]\n",
      " [False  True  True False]\n",
      " [False False False False]]\n",
      "-------------------------\n",
      "[[ 1  2  3  4]\n",
      " [ 5  0  0  8]\n",
      " [ 9 10 11 12]]\n"
     ]
    }
   ],
   "source": [
    "li1=[[kk+1+jj*col for kk in range(col)] for jj in range(row)]\n",
    "ar2=np.array(li1)\n",
    "idx=np.ones([row, col], dtype=bool)\n",
    "print(idx)\n",
    "print(\"-------------------------\")\n",
    "idx[0,:] = False\n",
    "print(idx)\n",
    "print(\"-------------------------\")\n",
    "idx[-1,:] =False\n",
    "print(idx)\n",
    "print(\"-------------------------\")\n",
    "idx[:,0] =False\n",
    "print(idx)\n",
    "print(\"-------------------------\")\n",
    "idx[:,-1]=False\n",
    "print(idx)\n",
    "print(\"-------------------------\")\n",
    "ar2[idx]=0\n",
    "print(ar2)"
   ]
  },
  {
   "cell_type": "code",
   "execution_count": 172,
   "metadata": {},
   "outputs": [
    {
     "name": "stdout",
     "output_type": "stream",
     "text": [
      "[[1, 2, 3, 4], [5, 6, 7, 8], [9, 10, 11, 12]]\n",
      "[[ 1.  1.  2.  3.  4.  4.]\n",
      " [ 1.  1.  2.  3.  4.  4.]\n",
      " [ 5.  5.  6.  7.  8.  8.]\n",
      " [ 9.  9. 10. 11. 12. 12.]\n",
      " [ 9.  9. 10. 11. 12. 12.]]\n",
      "[[ 1  1  2  3  4  4]\n",
      " [ 1  1  2  3  4  4]\n",
      " [ 5  5  6  7  8  8]\n",
      " [ 9  9 10 11 12 12]\n",
      " [ 9  9 10 11 12 12]]\n"
     ]
    }
   ],
   "source": [
    "#%%\n",
    "import numpy as np\n",
    "#NLC 이용한 2차원 배열 생성 방법\n",
    "row,col = 3,4\n",
    "li = [[kk + 1 + jj*col for kk in range(col)] for jj in range(row)]\n",
    "print(li)\n",
    "np1 = np.array(li)\n",
    "#부분복사 방식\n",
    "np2 = np.zeros((np1.shape[0]+2,np1.shape[1]+2))\n",
    "np2[1:-1,1:-1] = np1\n",
    "\n",
    "np2[0] = np2[1]\n",
    "np2[-1] = np2[-2]\n",
    "np2[:,0] = np2[:,1]\n",
    "np2[:,-1] = np2[:,-2]\n",
    "print(np2)\n",
    "#행 열 결합 방식 (column_stack, append, vstack,hstack, np.r_[,])\n",
    "\n",
    "np1 = np.column_stack((np1[:,0],np1))\n",
    "np1 = np.column_stack((np1,np1[:,-1]))\n",
    "np1 = np.row_stack((np1[0,:],np1))\n",
    "np1 = np.row_stack((np1,np1[-1,:]))\n",
    "print(np1)"
   ]
  },
  {
   "cell_type": "code",
   "execution_count": 173,
   "metadata": {},
   "outputs": [],
   "source": [
    "row,col = 3,4\n",
    "li = [[kk + 1 + jj*col for kk in range(col)] for jj in range(row)]"
   ]
  },
  {
   "cell_type": "code",
   "execution_count": 203,
   "metadata": {},
   "outputs": [
    {
     "name": "stdout",
     "output_type": "stream",
     "text": [
      "[[ 1  2  3  4]\n",
      " [ 5  6  7  8]\n",
      " [ 9 10 11 12]]\n",
      "[[0. 0. 0. 0. 0. 0.]\n",
      " [0. 0. 0. 0. 0. 0.]\n",
      " [0. 0. 0. 0. 0. 0.]\n",
      " [0. 0. 0. 0. 0. 0.]\n",
      " [0. 0. 0. 0. 0. 0.]]\n",
      "[[ 0.  0.  0.  0.  0.  0.]\n",
      " [ 0.  1.  2.  3.  4.  0.]\n",
      " [ 0.  5.  6.  7.  8.  0.]\n",
      " [ 0.  9. 10. 11. 12.  0.]\n",
      " [ 0.  0.  0.  0.  0.  0.]]\n",
      "---------------------\n",
      "[[ 0.  1.  2.  3.  4.  0.]\n",
      " [ 0.  1.  2.  3.  4.  0.]\n",
      " [ 0.  5.  6.  7.  8.  0.]\n",
      " [ 0.  9. 10. 11. 12.  0.]\n",
      " [ 0.  9. 10. 11. 12.  0.]]\n",
      "---------------------\n",
      "[[ 1.  1.  2.  3.  4.  0.]\n",
      " [ 1.  1.  2.  3.  4.  0.]\n",
      " [ 5.  5.  6.  7.  8.  0.]\n",
      " [ 9.  9. 10. 11. 12.  0.]\n",
      " [ 9.  9. 10. 11. 12.  0.]]\n",
      "---------------------\n",
      "[[ 1.  1.  2.  3.  4.  4.]\n",
      " [ 1.  1.  2.  3.  4.  4.]\n",
      " [ 5.  5.  6.  7.  8.  8.]\n",
      " [ 9.  9. 10. 11. 12. 12.]\n",
      " [ 9.  9. 10. 11. 12. 12.]]\n"
     ]
    }
   ],
   "source": [
    "arr1=np.array(li)\n",
    "arr2=np.zeros((arr1.shape[0]+2, arr1.shape[1]+2))\n",
    "print(arr1)\n",
    "print(arr2)\n",
    "\n",
    "arr2[1:-1,1:-1]=arr1\n",
    "print(arr2)\n",
    "print(\"---------------------\")\n",
    "arr2[0]=arr2[1]\n",
    "arr2[-1]=arr2[-2]\n",
    "print(arr2)\n",
    "print(\"---------------------\")\n",
    "arr2[:,0]=arr2[:,1]\n",
    "print(arr2)\n",
    "print(\"---------------------\")\n",
    "arr2[:,-1]=arr2[:,-2]\n",
    "print(arr2)"
   ]
  },
  {
   "cell_type": "code",
   "execution_count": 196,
   "metadata": {},
   "outputs": [
    {
     "name": "stdout",
     "output_type": "stream",
     "text": [
      "[[ 1  2  3  4]\n",
      " [ 5  6  7  8]\n",
      " [ 9 10 11 12]]\n"
     ]
    }
   ],
   "source": [
    "print(arr1)"
   ]
  },
  {
   "cell_type": "code",
   "execution_count": 204,
   "metadata": {},
   "outputs": [],
   "source": [
    "arr1=np.column_stack((arr1[:,0],arr1))\n",
    "arr1=np.column_stack((arr1, arr1[:,-1]))\n",
    "arr1=np.row_stack((arr1[0,:],arr1))\n",
    "arr1=np.row_stack((arr1,arr1[-1,:]))"
   ]
  },
  {
   "cell_type": "code",
   "execution_count": 205,
   "metadata": {},
   "outputs": [
    {
     "name": "stdout",
     "output_type": "stream",
     "text": [
      "[[ 1  1  2  3  4  4]\n",
      " [ 1  1  2  3  4  4]\n",
      " [ 5  5  6  7  8  8]\n",
      " [ 9  9 10 11 12 12]\n",
      " [ 9  9 10 11 12 12]]\n"
     ]
    }
   ],
   "source": [
    "print(arr1)"
   ]
  },
  {
   "cell_type": "code",
   "execution_count": 213,
   "metadata": {},
   "outputs": [
    {
     "name": "stdout",
     "output_type": "stream",
     "text": [
      "False\n"
     ]
    }
   ],
   "source": [
    "def isNumber(v):\n",
    "    try:\n",
    "        float(v)\n",
    "        return True\n",
    "    except ValueError:\n",
    "        return False"
   ]
  },
  {
   "cell_type": "code",
   "execution_count": 217,
   "metadata": {},
   "outputs": [
    {
     "name": "stdout",
     "output_type": "stream",
     "text": [
      "True\n",
      "False\n"
     ]
    }
   ],
   "source": [
    "def isNumber2(v):\n",
    "    if type(v)==int or type(v)==float:\n",
    "        return True\n",
    "    elif type(v)==list or type(v)==tuple:\n",
    "        return False\n",
    "\n",
    "print(isNumber2(32))"
   ]
  },
  {
   "cell_type": "code",
   "execution_count": 218,
   "metadata": {},
   "outputs": [],
   "source": [
    "def isNumber3(v):\n",
    "    if type(v)==int or type(v)==float:\n",
    "        return True\n",
    "    elif type(v)==list or type(v)==tuple:\n",
    "        vmd=[isNumber3(k) for k in v]\n",
    "        return True if all(vmd) else False\n",
    "    else:\n",
    "        return False\n"
   ]
  },
  {
   "cell_type": "code",
   "execution_count": 221,
   "metadata": {},
   "outputs": [
    {
     "name": "stdout",
     "output_type": "stream",
     "text": [
      "[True]\n"
     ]
    }
   ],
   "source": [
    "def ltall1(lt):\n",
    "    lt=[True]\n",
    "    for i in range(len(lt)-1):\n",
    "        if lt[i]!=lt[i+1]:\n",
    "            lt.append(False)\n",
    "    return lt\n",
    "li=[1,2,0,\"d\"]\n",
    "print(ltall1(li))"
   ]
  },
  {
   "cell_type": "code",
   "execution_count": 224,
   "metadata": {},
   "outputs": [
    {
     "name": "stdout",
     "output_type": "stream",
     "text": [
      "True\n"
     ]
    }
   ],
   "source": [
    "def ltall2(li):\n",
    "    if len(li)%2!=0:\n",
    "        li.insert(0,li[0])\n",
    "    li2=li.copy()\n",
    "    li.reverse()\n",
    "    return li==li2\n",
    "lii=[1,1,1,1,1,1]\n",
    "print(ltall2(lii))"
   ]
  },
  {
   "cell_type": "code",
   "execution_count": 230,
   "metadata": {},
   "outputs": [
    {
     "name": "stdout",
     "output_type": "stream",
     "text": [
      "[1, 2, 3, 4, 5] lt2\n",
      "[2, 3, 4, 5] lt\n",
      "[1, 2, 3, 4] lt2\n",
      "False\n"
     ]
    }
   ],
   "source": [
    "def a(lt):\n",
    "    lt2=lt.copy()\n",
    "    print(lt2,'lt2')\n",
    "    lt.pop(0)\n",
    "    print(lt,'lt')\n",
    "    lt2.pop()\n",
    "    print(lt2,'lt2')\n",
    "    return lt==lt2\n",
    "\n",
    "b=[1,2,3,4,5]\n",
    "print(a(b))"
   ]
  },
  {
   "cell_type": "code",
   "execution_count": 231,
   "metadata": {},
   "outputs": [
    {
     "name": "stdout",
     "output_type": "stream",
     "text": [
      "3\n"
     ]
    }
   ],
   "source": [
    "li1=[[1,2,3,4],[5,6,7,8],[9,10,11,12]]\n",
    "print(len(li1))"
   ]
  },
  {
   "cell_type": "code",
   "execution_count": 236,
   "metadata": {},
   "outputs": [
    {
     "name": "stdout",
     "output_type": "stream",
     "text": [
      "[[1, 5, 9], [2, 6, 10], [3, 7, 11], [4, 8, 12]]\n",
      "[[ 1  5  9]\n",
      " [ 2  6 10]\n",
      " [ 3  7 11]\n",
      " [ 4  8 12]]\n"
     ]
    }
   ],
   "source": [
    "row,col=3,4\n",
    "\n",
    "itT=[]\n",
    "for i in range(col):\n",
    "    tmp=[]\n",
    "    for j in range(row):\n",
    "        tmp.append(li1[j][i])\n",
    "    itT.append(tmp)\n",
    "print(itT)\n",
    "a=np.array(itT)\n",
    "print(a)"
   ]
  },
  {
   "cell_type": "code",
   "execution_count": 245,
   "metadata": {},
   "outputs": [
    {
     "name": "stdout",
     "output_type": "stream",
     "text": [
      "a\n",
      "b\n",
      "c\n",
      "d\n",
      "e\n",
      "a\n",
      "b\n",
      "c\n",
      "d\n",
      "e\n"
     ]
    }
   ],
   "source": [
    "lt = [(1,'a'),(2,'b'),(3,'c'),(4,'d'),(5,'e')]\n",
    "li=[]\n",
    "for i in range(len(lt)):\n",
    "    print(lt[i][1])\n",
    "\n",
    "for i in range(len(lt)):\n",
    "    for j in range(2):\n",
    "        if type(lt[i][j])==str:\n",
    "            print(lt[i][j])"
   ]
  },
  {
   "cell_type": "code",
   "execution_count": 299,
   "metadata": {},
   "outputs": [],
   "source": [
    "li=[1,2,3,4,5]\n",
    "li2=[(lambda x:x*3)(x) for x in li]"
   ]
  },
  {
   "cell_type": "code",
   "execution_count": 300,
   "metadata": {},
   "outputs": [
    {
     "name": "stdout",
     "output_type": "stream",
     "text": [
      "[3, 6, 9, 12, 15]\n"
     ]
    }
   ],
   "source": [
    "print(li2)"
   ]
  },
  {
   "cell_type": "code",
   "execution_count": 303,
   "metadata": {},
   "outputs": [
    {
     "name": "stdout",
     "output_type": "stream",
     "text": [
      "[3, 6, 9, 12, 15]\n"
     ]
    }
   ],
   "source": [
    "li3=list(map(lambda x:x*3,li))\n",
    "print(li3)"
   ]
  },
  {
   "cell_type": "code",
   "execution_count": 304,
   "metadata": {},
   "outputs": [
    {
     "data": {
      "text/plain": [
       "[0, 1, 2, 3, 4]"
      ]
     },
     "execution_count": 304,
     "metadata": {},
     "output_type": "execute_result"
    }
   ],
   "source": [
    "li3 = list(range(5))\n",
    "li3"
   ]
  },
  {
   "cell_type": "code",
   "execution_count": 305,
   "metadata": {},
   "outputs": [
    {
     "name": "stdout",
     "output_type": "stream",
     "text": [
      "[[1, 2, 3], [4, 5, 6]]\n"
     ]
    },
    {
     "ename": "TypeError",
     "evalue": "float() argument must be a string or a number, not 'list'",
     "output_type": "error",
     "traceback": [
      "\u001b[0;31m---------------------------------------------------------------------------\u001b[0m",
      "\u001b[0;31mTypeError\u001b[0m                                 Traceback (most recent call last)",
      "\u001b[0;32m<ipython-input-305-fc36dfda9b1e>\u001b[0m in \u001b[0;36m<module>\u001b[0;34m()\u001b[0m\n\u001b[1;32m     21\u001b[0m \u001b[0;34m\u001b[0m\u001b[0m\n\u001b[1;32m     22\u001b[0m \u001b[0mprint\u001b[0m\u001b[0;34m(\u001b[0m\u001b[0mlt1\u001b[0m\u001b[0;34m)\u001b[0m\u001b[0;34m\u001b[0m\u001b[0m\n\u001b[0;32m---> 23\u001b[0;31m \u001b[0mprint\u001b[0m\u001b[0;34m(\u001b[0m\u001b[0mlt_dot\u001b[0m\u001b[0;34m(\u001b[0m\u001b[0mlt1\u001b[0m\u001b[0;34m,\u001b[0m\u001b[0mlt2\u001b[0m\u001b[0;34m)\u001b[0m\u001b[0;34m)\u001b[0m\u001b[0;34m\u001b[0m\u001b[0m\n\u001b[0m",
      "\u001b[0;32m<ipython-input-305-fc36dfda9b1e>\u001b[0m in \u001b[0;36mlt_dot\u001b[0;34m(ltA, ltB)\u001b[0m\n\u001b[1;32m      1\u001b[0m \u001b[0;32mdef\u001b[0m \u001b[0mlt_dot\u001b[0m\u001b[0;34m(\u001b[0m\u001b[0mltA\u001b[0m\u001b[0;34m,\u001b[0m\u001b[0mltB\u001b[0m\u001b[0;34m)\u001b[0m\u001b[0;34m:\u001b[0m\u001b[0;34m\u001b[0m\u001b[0m\n\u001b[0;32m----> 2\u001b[0;31m     \u001b[0;32mif\u001b[0m \u001b[0;32mnot\u001b[0m \u001b[0misNumber\u001b[0m\u001b[0;34m(\u001b[0m\u001b[0mltA\u001b[0m\u001b[0;34m)\u001b[0m \u001b[0;32mor\u001b[0m \u001b[0;32mnot\u001b[0m \u001b[0misNumber\u001b[0m\u001b[0;34m(\u001b[0m\u001b[0mltB\u001b[0m\u001b[0;34m)\u001b[0m\u001b[0;34m:\u001b[0m\u001b[0;34m\u001b[0m\u001b[0m\n\u001b[0m\u001b[1;32m      3\u001b[0m         \u001b[0mprint\u001b[0m\u001b[0;34m(\u001b[0m\u001b[0;34m'Input Value is not a number'\u001b[0m\u001b[0;34m)\u001b[0m\u001b[0;34m\u001b[0m\u001b[0m\n\u001b[1;32m      4\u001b[0m         \u001b[0;32mreturn\u001b[0m \u001b[0;32mFalse\u001b[0m \u001b[0;31m#구성 성분 검사\u001b[0m\u001b[0;34m\u001b[0m\u001b[0m\n\u001b[1;32m      5\u001b[0m \u001b[0;34m\u001b[0m\u001b[0m\n",
      "\u001b[0;32m<ipython-input-213-a5ef490644e2>\u001b[0m in \u001b[0;36misNumber\u001b[0;34m(v)\u001b[0m\n\u001b[1;32m      1\u001b[0m \u001b[0;32mdef\u001b[0m \u001b[0misNumber\u001b[0m\u001b[0;34m(\u001b[0m\u001b[0mv\u001b[0m\u001b[0;34m)\u001b[0m\u001b[0;34m:\u001b[0m\u001b[0;34m\u001b[0m\u001b[0m\n\u001b[1;32m      2\u001b[0m     \u001b[0;32mtry\u001b[0m\u001b[0;34m:\u001b[0m\u001b[0;34m\u001b[0m\u001b[0m\n\u001b[0;32m----> 3\u001b[0;31m         \u001b[0mfloat\u001b[0m\u001b[0;34m(\u001b[0m\u001b[0mv\u001b[0m\u001b[0;34m)\u001b[0m\u001b[0;34m\u001b[0m\u001b[0m\n\u001b[0m\u001b[1;32m      4\u001b[0m         \u001b[0;32mreturn\u001b[0m \u001b[0;32mTrue\u001b[0m\u001b[0;34m\u001b[0m\u001b[0m\n\u001b[1;32m      5\u001b[0m     \u001b[0;32mexcept\u001b[0m \u001b[0mValueError\u001b[0m\u001b[0;34m:\u001b[0m\u001b[0;34m\u001b[0m\u001b[0m\n",
      "\u001b[0;31mTypeError\u001b[0m: float() argument must be a string or a number, not 'list'"
     ]
    }
   ],
   "source": [
    "def lt_dot(ltA,ltB):\n",
    "    if not isNumber(ltA) or not isNumber(ltB):\n",
    "        print('Input Value is not a number')\n",
    "        return False #구성 성분 검사\n",
    "        \n",
    "    if lt_shape(ltA)[1] != lt_shape(ltA)[0]:\n",
    "        print('No matrix multiplication')\n",
    "        return False #내적 연산 불가능\n",
    "    row = lt_shape(ltA)[0]\n",
    "    col = lt_shape(ltB)[1]\n",
    "    ltC = []\n",
    "    for aa in ltA:\n",
    "        tmp =[]\n",
    "        for bb in lt_Trans(ltB):\n",
    "            tmp.append(sum(lt_mul(aa,bb)))\n",
    "        ltC.append(tmp)\n",
    "    return ltC\n",
    "\n",
    "lt1 = [[1,2,3],[4,5,6]]\n",
    "lt2 = [[1,2,3],[4,5,6],[1,2,3]]\n",
    "\n",
    "print(lt1)    \n",
    "print(lt_dot(lt1,lt2))"
   ]
  },
  {
   "cell_type": "code",
   "execution_count": 8,
   "metadata": {
    "tags": []
   },
   "outputs": [
    {
     "output_type": "stream",
     "name": "stdout",
     "text": "3\n2\n"
    }
   ],
   "source": [
    "# https://www.acmicpc.net/problem/2941\n",
    "\n",
    "\n",
    "cro_alpha = input()\n",
    "\n",
    "alpha_arr = ['c=', 'c-','dz=','d-','lj','nj','s=','z=']\n",
    "\n",
    "for i in alpha_arr:\n",
    "    cro_alpha = cro_alpha.replace(i, '!');\n",
    "\n",
    "print(len(cro_alpha))\n",
    "\n"
   ]
  },
  {
   "cell_type": "code",
   "execution_count": 41,
   "metadata": {
    "tags": []
   },
   "outputs": [
    {
     "output_type": "stream",
     "name": "stdout",
     "text": "{'111211', '112121', '211121', '211111', '111212', '212121', '112111', '121111', '111111', '121212', '111112', '121112', '212111', '121211', '111121'}\n"
    }
   ],
   "source": [
    "matrix = []\n",
    "\n",
    "for _ in range(5):\n",
    "    matrix.append(list(input().split(' ')))\n",
    "\n",
    "answer = []\n",
    "\n",
    "dx = [1,-1,0,0]\n",
    "dy = [0, 0, 1, -1]\n",
    "\n",
    "def backtracking(x,y ,strr):\n",
    "    strr+=matrix[x][y]\n",
    "    if len(strr)==6:\n",
    "        answer.append(strr)\n",
    "        return\n",
    "    else:\n",
    "        for k in range(4):\n",
    "            ay = x+dx[k]\n",
    "            ax = y+dy[k]\n",
    "            if ax>=0 and ax<5 and ay>=0 and ay<5:\n",
    "                backtracking(ay, ax, strr)\n",
    "\n",
    "for i in range(5):\n",
    "    for j in range(5):\n",
    "        backtracking(i, j,'')\n",
    "            \n",
    "\n",
    "print(len(set(answer)))\n",
    "\n",
    "\n",
    "        \n",
    "    \n",
    "    \n",
    "\n"
   ]
  },
  {
   "cell_type": "code",
   "execution_count": null,
   "metadata": {},
   "outputs": [],
   "source": [
    "111"
   ]
  }
 ],
 "metadata": {
  "kernelspec": {
   "display_name": "Python 3",
   "language": "python",
   "name": "python3"
  },
  "language_info": {
   "codemirror_mode": {
    "name": "ipython",
    "version": 3
   },
   "file_extension": ".py",
   "mimetype": "text/x-python",
   "name": "python",
   "nbconvert_exporter": "python",
   "pygments_lexer": "ipython3",
   "version": "3.6.4-final"
  }
 },
 "nbformat": 4,
 "nbformat_minor": 2
}